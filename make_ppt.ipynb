{
 "cells": [
  {
   "cell_type": "code",
   "execution_count": 9,
   "metadata": {},
   "outputs": [],
   "source": [
    "from io import BytesIO\n",
    "from copy import deepcopy\n",
    "from pptx import Presentation\n",
    "from pptx.util import Pt, Inches\n",
    "from pptx.dml.color import RGBColor\n",
    "from pptx.enum.text import MSO_ANCHOR, PP_ALIGN, MSO_AUTO_SIZE\n",
    "import json\n",
    "from ppt_functions import *"
   ]
  },
  {
   "cell_type": "code",
   "execution_count": 10,
   "metadata": {},
   "outputs": [],
   "source": [
    "prs = Presentation('template_2.pptx')\n",
    "prs_template = json.load(open('template_2.json'))\n",
    "t = Presentation('test.pptx')"
   ]
  },
  {
   "cell_type": "code",
   "execution_count": 11,
   "metadata": {},
   "outputs": [
    {
     "name": "stdout",
     "output_type": "stream",
     "text": [
      "<pptx.shapes.group.GroupShape object at 0x00000253EABB3CE0> Shape ID: 2\n",
      "<pptx.shapes.group.GroupShape object at 0x00000253EAC61D90> Shape ID: 5\n",
      "<pptx.shapes.autoshape.Shape object at 0x00000253EABC5580> Shape ID: 9, Text: This is a sample text which goes in Paragraph 1\u000b\n",
      "This is a sample text which goes in Paragraph 2\u000b\n",
      "This is a sample text which goes in Paragraph 3\n",
      "<pptx.shapes.group.GroupShape object at 0x00000253EABB3CE0> Shape ID: 24\n",
      "<pptx.shapes.group.GroupShape object at 0x00000253EAC61D90> Shape ID: 27\n",
      "<pptx.shapes.autoshape.Shape object at 0x00000253EAC62D20> Shape ID: 10, Text: Paragraph Slide\n",
      "<pptx.shapes.picture.Picture object at 0x00000253EAC61D90> Shape ID: 12, Picture: <pptx.parts.image.Image object at 0x00000253EA8055E0>\n",
      "<pptx.shapes.autoshape.Shape object at 0x00000253EA8055E0> Shape ID: 17\n",
      "<pptx.shapes.autoshape.Shape object at 0x00000253EAC62D20> Shape ID: 18\n",
      "<pptx.shapes.group.GroupShape object at 0x00000253EA8055E0> Shape ID: 19\n",
      "<pptx.shapes.picture.Picture object at 0x00000253EABC5580> Shape ID: 14, Picture: <pptx.parts.image.Image object at 0x00000253EABB3CE0>\n"
     ]
    }
   ],
   "source": [
    "find_shapes(prs, 1)"
   ]
  },
  {
   "cell_type": "code",
   "execution_count": 12,
   "metadata": {},
   "outputs": [
    {
     "name": "stdout",
     "output_type": "stream",
     "text": [
      "<pptx.shapes.group.GroupShape object at 0x00000253EAC61D60> Shape ID: 2\n",
      "<pptx.shapes.group.GroupShape object at 0x00000253EABC5580> Shape ID: 5\n",
      "<pptx.shapes.group.GroupShape object at 0x00000253EAC620C0> Shape ID: 8\n",
      "<pptx.shapes.autoshape.Shape object at 0x00000253EABF8050> Shape ID: 12, Text: Title: \n",
      "<pptx.shapes.group.GroupShape object at 0x00000253EABC5580> Shape ID: 18\n",
      "<pptx.shapes.group.GroupShape object at 0x00000253EAC620C0> Shape ID: 21\n",
      "<pptx.shapes.autoshape.Shape object at 0x00000253EABF8050> Shape ID: 14, Text: Keynote by Prof. Louisa Mae Moore\n",
      "<pptx.shapes.picture.Picture object at 0x00000253EA8055E0> Shape ID: 13, Picture: <pptx.parts.image.Image object at 0x00000253EAC62180>\n",
      "<pptx.shapes.picture.Picture object at 0x00000253EABC5580> Shape ID: 28, Picture: <pptx.parts.image.Image object at 0x00000253EAC620C0>\n"
     ]
    }
   ],
   "source": [
    "find_shapes(prs, 0)"
   ]
  },
  {
   "cell_type": "code",
   "execution_count": 13,
   "metadata": {},
   "outputs": [
    {
     "name": "stdout",
     "output_type": "stream",
     "text": [
      "<pptx.shapes.picture.Picture object at 0x00000253EA8055E0> Shape ID: 7, Picture: <pptx.parts.image.Image object at 0x00000253EAC62060>\n",
      "<pptx.shapes.group.GroupShape object at 0x00000253EAB2A270> Shape ID: 2\n",
      "<pptx.shapes.autoshape.Shape object at 0x00000253EABF8050> Shape ID: 21, Text: Table Slide\n",
      "<pptx.shapes.group.GroupShape object at 0x00000253EA8055E0> Shape ID: 34\n",
      "<pptx.shapes.group.GroupShape object at 0x00000253EAC620C0> Shape ID: 38\n",
      "<pptx.shapes.autoshape.Shape object at 0x00000253EABF8050> Shape ID: 42\n",
      "<pptx.shapes.autoshape.Shape object at 0x00000253EA8055E0> Shape ID: 43\n",
      "<pptx.shapes.graphfrm.GraphicFrame object at 0x00000253EABF8050> Shape ID: 47, Table: <pptx.table.Table object at 0x00000253EA8055E0>\n",
      "<pptx.shapes.picture.Picture object at 0x00000253EAB2A270> Shape ID: 10, Picture: <pptx.parts.image.Image object at 0x00000253EABF8110>\n",
      "<pptx.shapes.group.GroupShape object at 0x00000253EABF8110> Shape ID: 44\n"
     ]
    }
   ],
   "source": [
    "find_shapes(prs, 12)"
   ]
  },
  {
   "cell_type": "code",
   "execution_count": 14,
   "metadata": {},
   "outputs": [
    {
     "name": "stdout",
     "output_type": "stream",
     "text": [
      "<pptx.shapes.picture.Picture object at 0x00000253EA8055E0> Shape ID: 2, Picture: <pptx.parts.image.Image object at 0x00000253EC9DA930>\n",
      "<pptx.shapes.picture.Picture object at 0x00000253EAC61C70> Shape ID: 3, Picture: <pptx.parts.image.Image object at 0x00000253EAC61E50>\n",
      "<pptx.shapes.group.GroupShape object at 0x00000253EAC61E50> Shape ID: 2\n",
      "<pptx.shapes.group.GroupShape object at 0x00000253EA8055E0> Shape ID: 6\n",
      "<pptx.shapes.group.GroupShape object at 0x00000253EAC620C0> Shape ID: 10\n",
      "<pptx.shapes.group.GroupShape object at 0x00000253EAC61E50> Shape ID: 14\n",
      "<pptx.shapes.autoshape.Shape object at 0x00000253EA8055E0> Shape ID: 19, Text: Thank you!\n",
      "<pptx.shapes.autoshape.Shape object at 0x00000253EABC5580> Shape ID: 20, Text: This is a sample closing statement.\n",
      "<pptx.shapes.picture.Picture object at 0x00000253EA8055E0> Shape ID: 21, Picture: <pptx.parts.image.Image object at 0x00000253EAC620C0>\n",
      "<pptx.shapes.picture.Picture object at 0x00000253EAC61C70> Shape ID: 22, Picture: <pptx.parts.image.Image object at 0x00000253EAC61E50>\n",
      "<pptx.shapes.group.GroupShape object at 0x00000253EABC5580> Shape ID: 22\n"
     ]
    }
   ],
   "source": [
    "find_shapes(t, -1)"
   ]
  },
  {
   "cell_type": "code",
   "execution_count": 15,
   "metadata": {},
   "outputs": [],
   "source": [
    "slide_1 = {\n",
    "    'title': 'My Presentation Title',\n",
    "    'credit_line': 'Created by AI Assistant',\n",
    "    'image': bytes(list(image_file_to_bytes(\"test_image.jpg\"))),\n",
    "    'template': prs_template[0]\n",
    "}\n",
    "\n",
    "slide_2 = {\n",
    "    'title': 'My Slide Title',\n",
    "    'paragraphs': [\"Data visualization tools are essential for transforming complex data into accessible and understandable visual formats.\", \n",
    "                   \"These tools empower users to identify patterns, trends, and insights that can drive decision-making across various sectors.\",\n",
    "                   \"In this presentation, we will explore the landscape of leading data visualization tools and their capabilities.\"],\n",
    "    'template': prs_template[1]\n",
    "}\n",
    "\n",
    "slide_3 = {\n",
    "    'title': 'My Slide Title',\n",
    "    'paragraphs': [\"Data visualization tools are essential for transforming complex data into accessible and understandable visual formats.\", \n",
    "                   \"These tools empower users to identify patterns, trends, and insights that can drive decision-making across various sectors.\",\n",
    "                   \"In this presentation, we will explore the landscape of leading data visualization tools and their capabilities.\"],\n",
    "    'icon': bytes(list(image_file_to_bytes(\"test_image.jpg\"))),\n",
    "    'template': prs_template[2]\n",
    "}\n",
    "\n",
    "slide_4 = {\n",
    "    'title': 'My Slide Title',\n",
    "    'paragraphs': [\"Data visualization tools are essential for transforming complex data into accessible and understandable visual formats.\", \n",
    "                   \"These tools empower users to identify patterns, trends, and insights that can drive decision-making across various sectors.\",\n",
    "                   \"In this presentation, we will explore the landscape of leading data visualization tools and their capabilities.\",\n",
    "                   \"Thats how it Ends!\"],\n",
    "    'image': bytes(list(image_file_to_bytes(\"test_image.jpg\"))),\n",
    "    'template': prs_template[3]\n",
    "}\n",
    "\n",
    "slide_5 = {\n",
    "    'title': 'My Slide Title',\n",
    "    'bullets': [\"Data visualization tools are essential for transforming complex data into accessible and understandable visual formats.\", \n",
    "                \"These tools empower users to identify patterns, trends, and insights that can drive decision-making across various sectors.\",\n",
    "                \"In this presentation, we will explore the landscape of leading data visualization tools and their capabilities.\",\n",
    "                \"Thats how it Ends!\"],\n",
    "    'template': prs_template[4]\n",
    "}\n",
    "\n",
    "slide_6 = {\n",
    "    'title': 'My Slide Title',\n",
    "    'bullets': [\"Data visualization tools are essential for transforming complex data into accessible and understandable visual formats.\", \n",
    "                   \"These tools empower users to identify patterns, trends, and insights that can drive decision-making across various sectors.\",\n",
    "                   \"In this presentation, we will explore the landscape of leading data visualization tools and their capabilities.\"],\n",
    "    'icon': bytes(list(image_file_to_bytes(\"test_image.jpg\"))),\n",
    "    'template': prs_template[5]\n",
    "}\n",
    "\n",
    "slide_7 = {\n",
    "    'title': 'My Slide Title',\n",
    "    'bullets': [\"Data visualization tools are essential for transforming complex data into accessible and understandable visual formats.\", \n",
    "                \"These tools empower users to identify patterns, trends, and insights that can drive decision-making across various sectors.\",\n",
    "                \"In this presentation, we will explore the landscape of leading data visualization tools and their capabilities.\",\n",
    "                \"Thats how it Ends!\"],\n",
    "    'image': bytes(list(image_file_to_bytes(\"test_image.jpg\"))),\n",
    "    'template': prs_template[6]\n",
    "}\n",
    "\n",
    "slide_8 = {\n",
    "    'title': 'My Slide Title',\n",
    "    'bullets': [\"Data visualization tools are essential for transforming complex data into accessible and understandable visual formats.\", \n",
    "                \"These tools empower users to identify patterns, trends, and insights that can drive decision-making across various sectors.\",\n",
    "                \"In this presentation, we will explore the landscape of leading data visualization tools and their capabilities.\",\n",
    "                \"Thats how it Ends!\"],\n",
    "    'template': prs_template[7]\n",
    "}\n",
    "\n",
    "slide_9 = {\n",
    "    'title': 'My Slide Title',\n",
    "    'bullets': [\"Data visualization tools are essential for transforming complex data into accessible and understandable visual formats.\", \n",
    "                   \"These tools empower users to identify patterns, trends, and insights that can drive decision-making across various sectors.\",\n",
    "                   \"In this presentation, we will explore the landscape of leading data visualization tools and their capabilities.\"],\n",
    "    'icon': bytes(list(image_file_to_bytes(\"test_image.jpg\"))),\n",
    "    'template': prs_template[8]\n",
    "}\n",
    "\n",
    "slide_10 = {\n",
    "    'title': 'My Slide Title',\n",
    "    'bullets': [\"Data visualization tools are essential for transforming complex data into accessible and understandable visual formats.\", \n",
    "                \"These tools empower users to identify patterns, trends, and insights that can drive decision-making across various sectors.\",\n",
    "                \"In this presentation, we will explore the landscape of leading data visualization tools and their capabilities.\",\n",
    "                \"Thats how it Ends!\"],\n",
    "    'image': bytes(list(image_file_to_bytes(\"test_image.jpg\"))),\n",
    "    'template': prs_template[9]\n",
    "}\n",
    "\n",
    "slide_11 = {\n",
    "    'title': 'My Slide Title',\n",
    "    'heading_1': 'My Slide Title',\n",
    "    'heading_2': 'My Slide Title',\n",
    "    'heading_3': 'My Slide Title',\n",
    "    'content_1': 'Hello. How are you? I am good. Thank you.',\n",
    "    'content_2': 'Hello. How are you? I am good. Thank you.',\n",
    "    'content_3': 'Hello. How are you? I am good. Thank you.',\n",
    "    'template': prs_template[10]\n",
    "}\n",
    "\n",
    "slide_12 = {\n",
    "    'title': 'My Slide Title',\n",
    "    'heading_1': 'My Slide Title',\n",
    "    'heading_2': 'My Slide Title',\n",
    "    'heading_3': 'My Slide Title',\n",
    "    'content_1': 'Hello. How are you? I am good. Thank you.',\n",
    "    'content_2': 'Hello. How are you? I am good. Thank you.',\n",
    "    'content_3': 'Hello. How are you? I am good. Thank you.',\n",
    "    'icon_1': bytes(list(image_file_to_bytes(\"test_image.jpg\"))),\n",
    "    'icon_2': bytes(list(image_file_to_bytes(\"test_image.jpg\"))),\n",
    "    'icon_3': bytes(list(image_file_to_bytes(\"test_image.jpg\"))),\n",
    "    'template': prs_template[11]\n",
    "}\n",
    "\n",
    "slide_13 = {\n",
    "    'title': 'My Slide Title',\n",
    "    'colnames': ['Column 1', 'Column 2', 'Column 3', 'Column 4'],\n",
    "    'rows': [['Row 1', 'Row 1', 'Row 1', 'Row 1'],\n",
    "             ['Row 2', 'Row 2', 'Row 2', 'Row 2'],\n",
    "             ['Row 3', 'Row 3', 'Row 3', 'Row 3'],\n",
    "             ['Row 4', 'Row 4', 'Row 4', 'Row 4']],\n",
    "    'template': prs_template[12],\n",
    "}\n",
    "\n",
    "slide_14 = {\n",
    "    'closing_statement': 'This is a sample closing statement.',\n",
    "    'template': prs_template[13],\n",
    "}\n",
    "\n",
    "add_title_slide(prs, **slide_1)\n",
    "add_paragraphs_slide(prs, **slide_2)\n",
    "add_paragraphs_slide_with_icon(prs, **slide_3)\n",
    "add_paragraphs_slide_with_image(prs, **slide_4)\n",
    "add_unordered_bullets_slide(prs, **slide_5)\n",
    "add_unordered_bullets_slide_with_icon(prs, **slide_6)\n",
    "add_unordered_bullets_slide_with_image(prs, **slide_7)\n",
    "add_ordered_bullets_slide(prs, **slide_8)\n",
    "add_ordered_bullets_slide_with_icon(prs, **slide_9)\n",
    "add_ordered_bullets_slide_with_image(prs, **slide_10)\n",
    "add_three_point_feature_slide(prs, **slide_11)\n",
    "add_three_point_feature_slide_with_icons(prs, **slide_12)\n",
    "add_table_slide(prs, **slide_13)\n",
    "add_thankyou_slide(prs, **slide_14)"
   ]
  },
  {
   "cell_type": "code",
   "execution_count": 16,
   "metadata": {},
   "outputs": [],
   "source": [
    "# slide_indexes = range(0,4)\n",
    "# delete_slides_by_index(prs, slide_indexes)"
   ]
  },
  {
   "cell_type": "code",
   "execution_count": 17,
   "metadata": {},
   "outputs": [],
   "source": [
    "prs.save('test.pptx')"
   ]
  }
 ],
 "metadata": {
  "kernelspec": {
   "display_name": "venv",
   "language": "python",
   "name": "python3"
  },
  "language_info": {
   "codemirror_mode": {
    "name": "ipython",
    "version": 3
   },
   "file_extension": ".py",
   "mimetype": "text/x-python",
   "name": "python",
   "nbconvert_exporter": "python",
   "pygments_lexer": "ipython3",
   "version": "3.12.7"
  }
 },
 "nbformat": 4,
 "nbformat_minor": 2
}
